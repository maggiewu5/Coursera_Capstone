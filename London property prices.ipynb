{
 "cells": [
  {
   "attachments": {},
   "cell_type": "markdown",
   "metadata": {},
   "source": [
    "# 1. Introduction\n",
    "London is UK's capital. It has a diverse range of people and cultures.Its urban area is the second most populous in Europe after Paris. London’s property market rebounded quickly after the easing of lockdown, buoyed by pent-up demand over the last few years and an increase in the number of people bringing forward a decision to move.\n",
    "\n",
    "## 1.1. Business Problem\n",
    "The rise of suburbanisation and a worsening housing supply crisis mean the capital will lead the UK housing market in the post-pandemic recovery, with Londoners expected to see their house prices rise by a fifth (21%) over the next five years, according to a new forecast by Homes & Property.\n",
    "\n",
    "London is a high population density city. It is very difficult for a home buyer or investor to find an affordable property with positive fundementals in such a big city. The amount of information on housing is vast and difficult to discern.\n",
    "\n",
    "This project aims to generate insights for potential home-buyers and investors, so to support their property purchase decision making. I will cluster the London areas based on the average sales price, local venues and amenities. I will then compare these clusters with the average property prices and rental prices for each borough, and also calculate the rental yield for each cluster for buy to let investors.\n",
    "\n",
    "With the data generated, I will create a map with clustering information in London.\n",
    "\n",
    "## 1.2 Data\n",
    "\n",
    "The Price Paid Data report from HM Land Registry\n",
    "Headings include: unique_id, price_paid, deed_date, postcode, property_type, new_build, estate_type, paon (Primary Addressable Object Name), saon (Secondary Addressable Object Name), street, locality, town, district, county and transaction_category.\n",
    "\n",
    "FourSquare API\n",
    "This will be used to access and explore venues and amenities based on the Latitude and Longitude collected using the GeoCoder library, which will then be read into a dataframe for data wrangling and cleaning. This dataframe will be merged with the Land Registry Price Paid Data and processed to be suitable for the machine learning model.\n",
    "\n",
    "List of London boroughs from Wikipedia\n",
    "This will be scraped into dataframe.\n",
    "\n",
    "Private rental market in London: October 2019 to September 2020 report from Office for National Statistics"
   ]
  },
  {
   "cell_type": "markdown",
   "metadata": {},
   "source": []
  }
 ],
 "metadata": {
  "kernelspec": {
   "display_name": "Python 3",
   "language": "python",
   "name": "python3"
  },
  "language_info": {
   "codemirror_mode": {
    "name": "ipython",
    "version": 3
   },
   "file_extension": ".py",
   "mimetype": "text/x-python",
   "name": "python",
   "nbconvert_exporter": "python",
   "pygments_lexer": "ipython3",
   "version": "3.6.4"
  }
 },
 "nbformat": 4,
 "nbformat_minor": 2
}
